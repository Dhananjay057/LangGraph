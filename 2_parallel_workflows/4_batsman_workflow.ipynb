{
 "cells": [
  {
   "cell_type": "code",
   "execution_count": 64,
   "id": "177606ad",
   "metadata": {},
   "outputs": [],
   "source": [
    "from langgraph.graph import StateGraph,START, END\n",
    "from dotenv import load_dotenv\n",
    "from typing import TypedDict\n",
    "# from langchain_google_genai import ChatGoogleGenerativeAI"
   ]
  },
  {
   "cell_type": "code",
   "execution_count": 65,
   "id": "cf82c49f",
   "metadata": {},
   "outputs": [
    {
     "data": {
      "text/plain": [
       "True"
      ]
     },
     "execution_count": 65,
     "metadata": {},
     "output_type": "execute_result"
    }
   ],
   "source": [
    "load_dotenv()"
   ]
  },
  {
   "cell_type": "code",
   "execution_count": 66,
   "id": "2bf33eb1",
   "metadata": {},
   "outputs": [],
   "source": [
    "# model = ChatGoogleGenerativeAI(model='gemini-2.5-flash')"
   ]
  },
  {
   "cell_type": "code",
   "execution_count": 67,
   "id": "0be31520",
   "metadata": {},
   "outputs": [],
   "source": [
    "# define state\n",
    "\n",
    "class BatsmanState(TypedDict):\n",
    "\n",
    "    runs : int\n",
    "    balls : int\n",
    "    fours : int\n",
    "    sixes : int\n",
    "\n",
    "    sr : float\n",
    "    bpb : float\n",
    "    bp : float\n",
    "    summary : str"
   ]
  },
  {
   "cell_type": "code",
   "execution_count": 75,
   "id": "ece10111",
   "metadata": {},
   "outputs": [],
   "source": [
    "def strike_rate(state:BatsmanState):\n",
    "\n",
    "    sr = (state['runs']/state['balls'])*100\n",
    "\n",
    "    return {\"sr\":sr}\n",
    "\n",
    "def boundary_percent(state:BatsmanState):\n",
    "    \n",
    "    bp = (( state['fours']*4 ) + (state['sixes']*6 ))/state['runs']\n",
    "\n",
    "    return {\"bp\":bp}\n",
    "\n",
    "def ball_per_boundary(state: BatsmanState):\n",
    "\n",
    "    bpb = state['balls']/(state['fours']+state['sixes'])\n",
    "\n",
    "    return {\"bpb\":bpb}\n",
    "\n",
    "def summary(state:BatsmanState):\n",
    "    summary = f\"\"\"\n",
    "strike Rate - {state['sr']} \\n\n",
    "boundary_percent - {state['bp']} \\n\n",
    "ball_per_boundary - {state['bpb']}\"\"\"\n",
    "    \n",
    "    state[\"summary\"] = summary\n",
    "\n",
    "    return state\n"
   ]
  },
  {
   "cell_type": "code",
   "execution_count": 76,
   "id": "79af10ce",
   "metadata": {},
   "outputs": [
    {
     "data": {
      "image/png": "[encoded data removed]",
      "text/plain": [
       "<langgraph.graph.state.CompiledStateGraph object at 0x000001B211F0E150>"
      ]
     },
     "execution_count": 76,
     "metadata": {},
     "output_type": "execute_result"
    }
   ],
   "source": [
    "# build state \n",
    "graph = StateGraph(BatsmanState)\n",
    "\n",
    "# build nodes\n",
    "graph.add_node(\"strike_rate\",strike_rate)\n",
    "graph.add_node(\"ball_per_boundary\",ball_per_boundary)\n",
    "graph.add_node(\"boundary_percent\",boundary_percent)\n",
    "graph.add_node(\"summary\",summary)\n",
    "\n",
    "# build edges\n",
    "graph.add_edge(START,\"strike_rate\")\n",
    "graph.add_edge(START,\"ball_per_boundary\")\n",
    "graph.add_edge(START,\"boundary_percent\")\n",
    "graph.add_edge(\"strike_rate\",\"summary\")\n",
    "graph.add_edge(\"ball_per_boundary\",\"summary\")\n",
    "graph.add_edge(\"boundary_percent\",'summary')\n",
    "graph.add_edge(\"summary\",END)\n",
    "\n",
    "# compile\n",
    "workflow = graph.compile()\n",
    "graph.compile()"
   ]
  },
  {
   "cell_type": "code",
   "execution_count": 77,
   "id": "f638bebb",
   "metadata": {},
   "outputs": [
    {
     "name": "stdout",
     "output_type": "stream",
     "text": [
      "{'runs': 100, 'balls': 50, 'fours': 6, 'sixes': 4, 'sr': 200.0, 'bpb': 5.0, 'bp': 0.48, 'summary': '\\nstrike Rate - 200.0 \\n\\nboundary_percent - 0.48 \\n\\nball_per_boundary - 5.0'}\n"
     ]
    }
   ],
   "source": [
    "# execute\n",
    "\n",
    "initial_state = {\"runs\": 100 , \"balls\": 50 , \"fours\":  6, \"sixes\":4 }\n",
    "final_state = workflow.invoke(initial_state)\n",
    "\n",
    "print(final_state)"
   ]
  },
  {
   "cell_type": "code",
   "execution_count": null,
   "id": "8e4fafb1",
   "metadata": {},
   "outputs": [
    {
     "ename": "",
     "evalue": "",
     "output_type": "error",
     "traceback": [
      "\u001b[1;31mThe Kernel crashed while executing code in the current cell or a previous cell. \n",
      "\u001b[1;31mPlease review the code in the cell(s) to identify a possible cause of the failure. \n",
      "\u001b[1;31mClick <a href='https://aka.ms/vscodeJupyterKernelCrash'>here</a> for more info. \n",
      "\u001b[1;31mView Jupyter <a href='command:jupyter.viewOutput'>log</a> for further details."
     ]
    }
   ],
   "source": []
  },
  {
   "cell_type": "code",
   "execution_count": null,
   "id": "bfd04470",
   "metadata": {},
   "outputs": [],
   "source": []
  }
 ],
 "metadata": {
  "kernelspec": {
   "display_name": "venv (3.12.2)",
   "language": "python",
   "name": "python3"
  },
  "language_info": {
   "codemirror_mode": {
    "name": "ipython",
    "version": 3
   },
   "file_extension": ".py",
   "mimetype": "text/x-python",
   "name": "python",
   "nbconvert_exporter": "python",
   "pygments_lexer": "ipython3",
   "version": "3.12.2"
  }
 },
 "nbformat": 4,
 "nbformat_minor": 5
}
