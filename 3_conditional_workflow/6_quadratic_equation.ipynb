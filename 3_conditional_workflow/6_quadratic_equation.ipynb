{
 "cells": [
  {
   "cell_type": "code",
   "execution_count": null,
   "id": "6fa618d7",
   "metadata": {},
   "outputs": [],
   "source": [
    "from langgraph.graph import StateGraph,START,END\n",
    "from typing import TypedDict, Literal"
   ]
  },
  {
   "cell_type": "code",
   "execution_count": null,
   "id": "d0f4bb0e",
   "metadata": {},
   "outputs": [],
   "source": [
    "class QuadState(TypedDict):\n",
    "    a: int\n",
    "    b: int\n",
    "    c: int\n",
    "\n",
    "    equation : str\n",
    "    discriminant: float\n",
    "    result : float"
   ]
  },
  {
   "cell_type": "code",
   "execution_count": null,
   "id": "7ca4becd",
   "metadata": {},
   "outputs": [],
   "source": [
    "def show_eqaution(state:QuadState):\n",
    "    equation = f\"{state['a']}*x^2 + {state['b']}*x + {state['c']}\"\n",
    "    return {\"equation\":equation}\n",
    "\n",
    "def calculate_discriminant(state:QuadState):\n",
    "    discriminant = (state['b']*state['b']) - 4*state['a']*state['c']\n",
    "    return {\"discriminant\":discriminant}\n",
    "\n",
    "def real_roots(state:QuadState):\n",
    "    root1 = (-state['b'] + state['discriminant']**0.5)/(2*state['a'])\n",
    "    root2 = (-state['b'] - state['discriminant']**0.5)/(2*state['a'])\n",
    "    result = f\"The Roots are {root1} and {root2}\"\n",
    "    return {\"result\":result}\n",
    "\n",
    "def no_real_roots(state:QuadState):\n",
    "    result = f\"No real roots\"\n",
    "    return {\"result\":result}\n",
    "\n",
    "def repeated_roots(state:QuadState):\n",
    "    root = (-state['b'] + state['discriminant']**0.5)/(2*state['a'])\n",
    "    result = f\"Only repeated root is {root}\"\n",
    "    return {\"result\":result}\n",
    "\n",
    "def check_condition(state:QuadState) -> Literal['real_roots','no_real_roots','repeated_roots']:\n",
    "    if state['discriminant']>0:\n",
    "        return \"real_roots\"\n",
    "    elif state['discriminant']==0:\n",
    "        return repeated_roots\n",
    "    else:\n",
    "        return \"no_real_roots\"\n",
    "    "
   ]
  },
  {
   "cell_type": "code",
   "execution_count": null,
   "id": "9df5ebbb",
   "metadata": {},
   "outputs": [],
   "source": [
    "# build state\n",
    "graph = StateGraph(QuadState)\n",
    "# add nodes\n",
    "graph.add_node(\"show_eqaution\",show_eqaution)\n",
    "graph.add_node(\"calculate_discriminant\",calculate_discriminant)\n",
    "graph.add_node(\"real_roots\",real_roots)\n",
    "graph.add_node(\"no_real_roots\",no_real_roots)\n",
    "graph.add_node(\"repeated_roots\",repeated_roots)\n",
    "# graph.add_node()\n",
    "\n",
    "# add edges\n",
    "graph.add_edge(START,\"show_eqaution\")\n",
    "graph.add_edge(\"show_eqaution\",\"calculate_discriminant\")\n",
    "graph.add_edge(\"calculate_discriminant\",END)\n",
    "# compile\n",
    "workflow=graph.compile()"
   ]
  },
  {
   "cell_type": "code",
   "execution_count": 19,
   "id": "b5bf9823",
   "metadata": {},
   "outputs": [
    {
     "name": "stdout",
     "output_type": "stream",
     "text": [
      "{'a': 4, 'b': -5, 'c': -4, 'equation': '4*x^2 + -5*x + -4', 'discriminant': 89}\n"
     ]
    }
   ],
   "source": [
    "# execute \n",
    "\n",
    "initial_state = {\"a\":4,\"b\":-5,\"c\":-4}\n",
    "final_state = workflow.invoke(initial_state)\n",
    "print(final_state)"
   ]
  },
  {
   "cell_type": "code",
   "execution_count": null,
   "id": "db49a300",
   "metadata": {},
   "outputs": [],
   "source": []
  },
  {
   "cell_type": "code",
   "execution_count": null,
   "id": "5ba6669d",
   "metadata": {},
   "outputs": [
    {
     "ename": "",
     "evalue": "",
     "output_type": "error",
     "traceback": [
      "\u001b[1;31mThe Kernel crashed while executing code in the current cell or a previous cell. \n",
      "\u001b[1;31mPlease review the code in the cell(s) to identify a possible cause of the failure. \n",
      "\u001b[1;31mClick <a href='https://aka.ms/vscodeJupyterKernelCrash'>here</a> for more info. \n",
      "\u001b[1;31mView Jupyter <a href='command:jupyter.viewOutput'>log</a> for further details."
     ]
    }
   ],
   "source": []
  },
  {
   "cell_type": "code",
   "execution_count": null,
   "id": "dfe5e9eb",
   "metadata": {},
   "outputs": [],
   "source": []
  }
 ],
 "metadata": {
  "kernelspec": {
   "display_name": "venv",
   "language": "python",
   "name": "python3"
  },
  "language_info": {
   "codemirror_mode": {
    "name": "ipython",
    "version": 3
   },
   "file_extension": ".py",
   "mimetype": "text/x-python",
   "name": "python",
   "nbconvert_exporter": "python",
   "pygments_lexer": "ipython3",
   "version": "3.12.2"
  }
 },
 "nbformat": 4,
 "nbformat_minor": 5
}
