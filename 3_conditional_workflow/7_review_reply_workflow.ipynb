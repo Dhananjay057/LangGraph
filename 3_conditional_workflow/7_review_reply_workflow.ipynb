{
 "cells": [
  {
   "cell_type": "code",
   "execution_count": 66,
   "id": "9db5daba",
   "metadata": {},
   "outputs": [],
   "source": [
    "from langgraph.graph import StateGraph,START,END\n",
    "from langchain_google_genai import ChatGoogleGenerativeAI\n",
    "from dotenv import load_dotenv\n",
    "from typing import TypedDict, Annotated,Literal\n",
    "from pydantic import BaseModel, Field"
   ]
  },
  {
   "cell_type": "code",
   "execution_count": 67,
   "id": "e9f9b5db",
   "metadata": {},
   "outputs": [
    {
     "data": {
      "text/plain": [
       "True"
      ]
     },
     "execution_count": 67,
     "metadata": {},
     "output_type": "execute_result"
    }
   ],
   "source": [
    "load_dotenv()"
   ]
  },
  {
   "cell_type": "code",
   "execution_count": 68,
   "id": "7e37a3fd",
   "metadata": {},
   "outputs": [],
   "source": [
    "model = ChatGoogleGenerativeAI(model=\"gemini-2.5-flash\")"
   ]
  },
  {
   "cell_type": "code",
   "execution_count": 69,
   "id": "c5dc27f7",
   "metadata": {},
   "outputs": [],
   "source": [
    "class Sentiment(BaseModel):\n",
    "    sentiment: Literal[\"positive\",\"negative\"] = Field(description=\"sentiment of the review\")\n",
    "\n",
    "llm = model.with_structured_output(Sentiment)\n",
    "\n",
    "class Daignosis(BaseModel):\n",
    "    issue_type: Literal[\"UX\", \"Performance\", \"Bug\", \"Support\", \"Other\"] = Field(description='The category of issue mentioned in the review')\n",
    "    tone: Literal[\"angry\", \"frustrated\", \"disappointed\", \"calm\"] = Field(description='The emotional tone expressed by the user')\n",
    "    urgency: Literal[\"low\", \"medium\", \"high\"] = Field(description='How urgent or critical the issue appears to be')\n",
    "llm1 =model.with_structured_output(Daignosis)\n"
   ]
  },
  {
   "cell_type": "code",
   "execution_count": 70,
   "id": "9ab56d88",
   "metadata": {},
   "outputs": [],
   "source": [
    "class ReviewState(TypedDict):\n",
    "\n",
    "    review : str\n",
    "    sentiment : Literal[\"positive\",'negative']\n",
    "    daignosis: str\n",
    "    response: str\n",
    "    "
   ]
  },
  {
   "cell_type": "code",
   "execution_count": 77,
   "id": "5d76fda7",
   "metadata": {},
   "outputs": [],
   "source": [
    "def sentiment(state:ReviewState):\n",
    "    prompt = f\"give the sentiment in positive or negative from the provided review /n {state['review']}\"\n",
    "    output = llm.invoke(prompt)\n",
    "\n",
    "    return {\"sentiment\":output.sentiment}\n",
    "\n",
    "def positive_response(state:ReviewState):\n",
    "    prompt = f\"\"\"Write a warm thank-you message in response to this review \\n{state['review']}\"\\n\n",
    "Also, kindly ask the user to leave feedback on our website\"\"\"\n",
    "\n",
    "    response = model.invoke(\"prompt\")\n",
    "    return {\"response\":response.content}\n",
    "\n",
    "def negative_response(state:ReviewState):\n",
    "    prompt = f\"\"\"You are a support assistant.  \n",
    "    The user had a {state['daignosis']['issue_type']} issue, sounded {state['daignosis']['tone']}, and marked urgency as {state['daignosis']['urgency']}.  \n",
    "    Write an empathetic, helpful resolution message.\"\"\"\n",
    "    response = model.invoke(\"prompt\")\n",
    "    return {\"response\":response.content}\n",
    "\n",
    "def daignosis(state:ReviewState):\n",
    "    prompt = f\"\"\"Diagnose this negative review:\\n\\n{state['review']}\\n Return issue_type, tone, and urgency.\"\"\"\n",
    "    daignosis = llm1.invoke(\"prompt\")\n",
    "    return {\"daignosis\":daignosis.model_dump()}\n",
    "    \n",
    "\n",
    "def check_condition(state:ReviewState) -> Literal[\"positive_response\",\"daignosis\"]:\n",
    "\n",
    "    if state[\"sentiment\"] == \"positive\":\n",
    "        return \"positive_response\"\n",
    "    else:\n",
    "        return \"daignosis\"\n"
   ]
  },
  {
   "cell_type": "code",
   "execution_count": 78,
   "id": "7981834b",
   "metadata": {},
   "outputs": [
    {
     "data": {
      "image/png": "[encoded data removed]",
      "text/plain": [
       "<langgraph.graph.state.CompiledStateGraph object at 0x000001F8A2FAF560>"
      ]
     },
     "execution_count": 78,
     "metadata": {},
     "output_type": "execute_result"
    }
   ],
   "source": [
    "graph = StateGraph(ReviewState)\n",
    "\n",
    "graph.add_node(\"sentiment\",sentiment)\n",
    "graph.add_node(\"daignosis\",daignosis)\n",
    "graph.add_node(\"positive_response\",positive_response)\n",
    "graph.add_node(\"negative_response\",negative_response)\n",
    "\n",
    "graph.add_edge(START,\"sentiment\")\n",
    "graph.add_conditional_edges(\"sentiment\",check_condition)\n",
    "graph.add_edge(\"positive_response\",END)\n",
    "graph.add_edge(\"daignosis\",\"negative_response\")\n",
    "graph.add_edge(\"negative_response\",END)\n",
    "\n",
    "workflow = graph.compile()\n",
    "graph.compile()\n"
   ]
  },
  {
   "cell_type": "code",
   "execution_count": 79,
   "id": "bd2480ac",
   "metadata": {},
   "outputs": [
    {
     "name": "stdout",
     "output_type": "stream",
     "text": [
      "{'review': 'I’ve been using this app for about a month now, and I must say, the user interface is incredibly clean and intuitive.  \\nEverything is exactly where you’d expect it to be. It’s rare to find something that just works without needing a tutorial.  \\nGreat job to the design team!\\n', 'sentiment': 'positive', 'response': 'Okay, \"prompt\" is a very broad term! To give you the best possible prompt, I need a little more information.\\n\\nAre you looking for:\\n\\n1.  **A prompt for *me* to respond to?** (e.g., \"Tell me a story about a talking teapot,\" or \"Explain quantum physics in simple terms.\")\\n2.  **A prompt for *you* to use?** (e.g., \"Give me a creative writing prompt,\" or \"Give me a journaling prompt.\")\\n3.  **An example of what a good prompt looks like?**\\n4.  **A prompt on a specific topic?** (e.g., sci-fi, history, self-improvement, coding, a specific game, etc.)\\n5.  **A prompt of a certain type?** (e.g., a question, a scenario, a challenge, an idea generator, a list.)\\n\\nPlease tell me:\\n\\n*   **What is the prompt for?** (e.g., creative writing, brainstorming, learning, a game, a conversation starter, personal reflection, a task for me to do?)\\n*   **Do you have a specific topic or theme in mind?**\\n*   **What kind of output are you hoping for?** (e.g., a story, an explanation, a list of ideas, an opinion, code?)\\n\\nOnce I know what you\\'re looking for, I can give you a much more useful and specific prompt!'}\n"
     ]
    }
   ],
   "source": [
    "initial_state = {\"review\":\"\"\"I’ve been using this app for about a month now, and I must say, the user interface is incredibly clean and intuitive.  \n",
    "Everything is exactly where you’d expect it to be. It’s rare to find something that just works without needing a tutorial.  \n",
    "Great job to the design team!\n",
    "\"\"\"}\n",
    "final_state= workflow.invoke(initial_state)\n",
    "print(final_state)"
   ]
  },
  {
   "cell_type": "code",
   "execution_count": null,
   "id": "4ab03833",
   "metadata": {},
   "outputs": [],
   "source": []
  },
  {
   "cell_type": "code",
   "execution_count": null,
   "id": "963d82f4",
   "metadata": {},
   "outputs": [],
   "source": []
  }
 ],
 "metadata": {
  "kernelspec": {
   "display_name": "venv (3.12.2)",
   "language": "python",
   "name": "python3"
  },
  "language_info": {
   "codemirror_mode": {
    "name": "ipython",
    "version": 3
   },
   "file_extension": ".py",
   "mimetype": "text/x-python",
   "name": "python",
   "nbconvert_exporter": "python",
   "pygments_lexer": "ipython3",
   "version": "3.12.2"
  }
 },
 "nbformat": 4,
 "nbformat_minor": 5
}
