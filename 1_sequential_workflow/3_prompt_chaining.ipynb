{
 "cells": [
  {
   "cell_type": "code",
   "execution_count": 1,
   "id": "c7004f7d",
   "metadata": {},
   "outputs": [],
   "source": [
    "from langgraph.graph import StateGraph,START,END\n",
    "from langchain_google_genai import ChatGoogleGenerativeAI\n",
    "from typing import TypedDict\n",
    "from dotenv import load_dotenv"
   ]
  },
  {
   "cell_type": "code",
   "execution_count": 2,
   "id": "84f0e430",
   "metadata": {},
   "outputs": [
    {
     "data": {
      "text/plain": [
       "True"
      ]
     },
     "execution_count": 2,
     "metadata": {},
     "output_type": "execute_result"
    }
   ],
   "source": [
    "load_dotenv()"
   ]
  },
  {
   "cell_type": "code",
   "execution_count": 5,
   "id": "d2f2c2f3",
   "metadata": {},
   "outputs": [],
   "source": [
    "model = ChatGoogleGenerativeAI(model=\"gemini-2.0-flash\")"
   ]
  },
  {
   "cell_type": "code",
   "execution_count": 4,
   "id": "f7d67282",
   "metadata": {},
   "outputs": [],
   "source": [
    "# define state\n",
    "class BlogState(TypedDict):\n",
    "\n",
    "    topic: str\n",
    "    outline: str\n",
    "    content : str"
   ]
  },
  {
   "cell_type": "code",
   "execution_count": 6,
   "id": "79a6469c",
   "metadata": {},
   "outputs": [],
   "source": [
    "def generate_outline(state:BlogState )-> BlogState:\n",
    "    \n",
    "    # extract the topic fromthe state\n",
    "    topic = state['topic']\n",
    "\n",
    "    # form a prompt\n",
    "    prompt = f'Generate an outline on this topic {topic}'\n",
    "\n",
    "    # generate outline \n",
    "    outline = model.invoke(prompt).content\n",
    "\n",
    "    #update the outline\n",
    "    state['outline'] = outline\n",
    "\n",
    "    return state\n",
    "\n",
    "def generate_blog(state:BlogState)-> BlogState:\n",
    "    \n",
    "    # extract tthe outlone\n",
    "    outline = state['outline']\n",
    "\n",
    "    # form a prompt\n",
    "    prompt = f'Generate a blog on this outline {outline}'\n",
    "\n",
    "    # ask that question to the llm\n",
    "    blog = model.invoke(prompt).content\n",
    "\n",
    "    #update the answer in the state\n",
    "    state['blog'] = blog\n",
    "\n",
    "    return state"
   ]
  },
  {
   "cell_type": "code",
   "execution_count": 12,
   "id": "3d919f5d",
   "metadata": {},
   "outputs": [
    {
     "data": {
      "image/png": "[encoded data removed]",
      "text/plain": [
       "<langgraph.graph.state.CompiledStateGraph object at 0x0000019E5B41F890>"
      ]
     },
     "execution_count": 12,
     "metadata": {},
     "output_type": "execute_result"
    }
   ],
   "source": [
    "# create state\n",
    "\n",
    "graph = StateGraph(BlogState)\n",
    "\n",
    "# nodes\n",
    "graph.add_node(\"generate_outline\",generate_outline)\n",
    "graph.add_node(\"generate_blog\",generate_blog)\n",
    "\n",
    "# edges\n",
    "graph.add_edge(START, \"generate_outline\")\n",
    "graph.add_edge(\"generate_outline\", \"generate_blog\")\n",
    "graph.add_edge(\"generate_blog\", END)\n",
    "\n",
    "# complie\n",
    "workflow = graph.compile()\n",
    "graph.compile()"
   ]
  },
  {
   "cell_type": "code",
   "execution_count": null,
   "id": "219ab613",
   "metadata": {},
   "outputs": [
    {
     "name": "stdout",
     "output_type": "stream",
     "text": [
      "{'topic': 'citylife in bangalore', 'outline': '## City Life in Bangalore: An Outline\\n\\n**I. Introduction**\\n\\n   *   A. Briefly introduce Bangalore as a major Indian city, highlighting its significance.\\n   *   B. Thesis Statement: Bangalore\\'s city life is a dynamic blend of traditional Indian culture and modern, global influences, characterized by its diverse population, booming IT industry, vibrant social scene, and persistent challenges related to infrastructure and cost of living.\\n\\n**II. The People and Culture**\\n\\n   *   A. Diverse Demographics:\\n        *   1.  Origins and migration patterns of Bangalore\\'s population (Kannadigas, migrants from other Indian states, international expats).\\n        *   2.  Impact of this diversity on the city\\'s culture.\\n   *   B. Language and Traditions:\\n        *   1.  Dominance of Kannada language and efforts to preserve it.\\n        *   2.  Influence of other Indian languages (Hindi, Telugu, Tamil) and English.\\n        *   3.  Festivals and celebrations:\\n            *   a.  Traditional Karnataka festivals (Ugadi, Dasara).\\n            *   b.  Other Indian festivals celebrated widely (Diwali, Holi, Eid, Christmas).\\n   *   C. Social Etiquette and Values:\\n        *   1.  Blend of traditional Indian values (respect for elders, family ties) with modern, progressive attitudes.\\n        *   2.  Growing acceptance of diverse lifestyles and ideas.\\n\\n**III. The IT Hub and Economic Landscape**\\n\\n   *   A. Rise of the IT Industry:\\n        *   1.  Historical factors that led to Bangalore becoming the \"Silicon Valley of India.\"\\n        *   2.  Major IT companies and their impact on the city\\'s economy.\\n   *   B. Employment Opportunities:\\n        *   1.  Job market trends in IT, startups, and other sectors.\\n        *   2.  Impact on the city\\'s population growth and migration.\\n   *   C. Startup Culture:\\n        *   1.  Bangalore as a hub for startups and entrepreneurship.\\n        *   2.  Factors contributing to the success of startups (funding, talent pool, ecosystem).\\n\\n**IV. Daily Life and Infrastructure**\\n\\n   *   A. Transportation:\\n        *   1.  Public transportation:\\n            *   a.  BMTC buses.\\n            *   b.  Namma Metro (Bangalore Metro).\\n            *   c.  Auto rickshaws and taxis.\\n        *   2.  Private transportation: cars, motorcycles, bicycles.\\n        *   3.  Traffic congestion and solutions being implemented.\\n   *   B. Housing:\\n        *   1.  Types of housing available (apartments, independent houses, gated communities).\\n        *   2.  Rising cost of living and housing affordability.\\n        *   3.  Popular residential areas and their characteristics.\\n   *   C. Utilities:\\n        *   1.  Water supply and challenges related to water scarcity.\\n        *   2.  Electricity supply and reliability.\\n        *   3.  Waste management and sanitation.\\n\\n**V. Social Life and Entertainment**\\n\\n   *   A. Food and Dining:\\n        *   1.  Variety of cuisines available (South Indian, North Indian, international).\\n        *   2.  Popular restaurants, street food, and culinary experiences.\\n        *   3.  Influence of different cultures on the city\\'s food scene.\\n   *   B. Nightlife and Entertainment:\\n        *   1.  Pubs, bars, and clubs.\\n        *   2.  Live music venues and cultural performances.\\n        *   3.  Theatres and art galleries.\\n   *   C. Parks and Recreation:\\n        *   1.  Popular parks and green spaces (Cubbon Park, Lal Bagh).\\n        *   2.  Opportunities for outdoor activities (hiking, cycling).\\n        *   3.  Shopping Malls and Retail.\\n\\n**VI. Challenges of City Life**\\n\\n   *   A. Traffic Congestion:\\n        *   1.  Causes of traffic jams and their impact on daily life.\\n        *   2.  Strategies to address traffic issues (infrastructure development, public transportation).\\n   *   B. Pollution:\\n        *   1.  Air pollution and its sources.\\n        *   2.  Water pollution and its impact on health.\\n        *   3.  Noise pollution and its consequences.\\n   *   C. Infrastructure Strain:\\n        *   1.  Inadequate infrastructure to support the growing population.\\n        *   2.  Challenges related to water supply, sanitation, and waste management.\\n   *   D. Cost of Living:\\n        *   1.  Rising cost of housing, transportation, and other essential goods.\\n        *   2.  Impact on different segments of the population.\\n\\n**VII. Future of Bangalore**\\n\\n   *   A. Sustainable Development:\\n        *   1.  Initiatives to promote sustainable urban development.\\n        *   2.  Focus on green spaces, renewable energy, and eco-friendly practices.\\n   *   B. Technological Advancements:\\n        *   1.  Role of technology in improving city infrastructure and services.\\n        *   2.  Smart city initiatives and their potential impact.\\n   *   C. Maintaining Cultural Identity:\\n        *   1.  Efforts to preserve Kannada language and culture.\\n        *   2.  Promoting inclusivity and celebrating diversity.\\n\\n**VIII. Conclusion**\\n\\n   *   A. Reiterate the dynamic and multifaceted nature of city life in Bangalore.\\n   *   B. Summarize the key aspects discussed in the outline.\\n   *   C. Offer a concluding thought on the future prospects of Bangalore as a global city.'}\n"
     ]
    },
    {
     "ename": "",
     "evalue": "",
     "output_type": "error",
     "traceback": [
      "\u001b[1;31mThe Kernel crashed while executing code in the current cell or a previous cell. \n",
      "\u001b[1;31mPlease review the code in the cell(s) to identify a possible cause of the failure. \n",
      "\u001b[1;31mClick <a href='https://aka.ms/vscodeJupyterKernelCrash'>here</a> for more info. \n",
      "\u001b[1;31mView Jupyter <a href='command:jupyter.viewOutput'>log</a> for further details."
     ]
    }
   ],
   "source": [
    "initial_state = {\"topic\": \"citylife in bangalore\"}\n",
    "final_state = workflow.invoke(initial_state)\n",
    "\n",
    "print(final_state)"
   ]
  },
  {
   "cell_type": "code",
   "execution_count": null,
   "id": "fd9fabe9",
   "metadata": {},
   "outputs": [],
   "source": []
  }
 ],
 "metadata": {
  "kernelspec": {
   "display_name": "venv (3.12.2)",
   "language": "python",
   "name": "python3"
  },
  "language_info": {
   "codemirror_mode": {
    "name": "ipython",
    "version": 3
   },
   "file_extension": ".py",
   "mimetype": "text/x-python",
   "name": "python",
   "nbconvert_exporter": "python",
   "pygments_lexer": "ipython3",
   "version": "3.12.2"
  }
 },
 "nbformat": 4,
 "nbformat_minor": 5
}
